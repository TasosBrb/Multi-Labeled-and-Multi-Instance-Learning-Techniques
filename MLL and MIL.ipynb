{
  "cells": [
    {
      "cell_type": "code",
      "execution_count": 1,
      "metadata": {
        "id": "xqWAwJtYC5xa"
      },
      "outputs": [],
      "source": [
        "import joblib\n",
        "import pandas as pd\n",
        "import seaborn as sns\n",
        "import numpy as np\n",
        "from sklearn import preprocessing\n",
        "\n",
        "import matplotlib.pyplot as plt\n",
        "from sklearn.model_selection import train_test_split\n",
        "from sklearn.multioutput import MultiOutputRegressor, ClassifierChain\n",
        "from sklearn.linear_model import LinearRegression, LogisticRegression\n",
        "from sklearn.metrics import confusion_matrix, classification_report\n",
        "from sklearn.svm import SVC\n",
        "from sklearn.naive_bayes import GaussianNB\n",
        "from sklearn.feature_extraction.text import CountVectorizer\n",
        "\n",
        "from collections import Counter\n",
        "import re"
      ]
    },
    {
      "cell_type": "markdown",
      "metadata": {
        "id": "zl7rKDnoC62J"
      },
      "source": [
        "Read files"
      ]
    },
    {
      "cell_type": "code",
      "execution_count": 2,
      "metadata": {
        "id": "fXSeicEgC9vJ"
      },
      "outputs": [],
      "source": [
        "labels = {}\n",
        "with open(\"labels.txt\", 'r') as file:\n",
        " for line in file:\n",
        " \n",
        "    (value, key) = line.split()\n",
        "    labels[int(key)] = value[:-1]"
      ]
    },
    {
      "cell_type": "code",
      "execution_count": 3,
      "metadata": {
        "id": "d0xPb8m3C_-J"
      },
      "outputs": [],
      "source": [
        "# vocabs = {}\n",
        "# with open(\"vocabs.txt\", 'r') as file:\n",
        "#  for line in file:\n",
        " \n",
        "#     (value, key) = line.split()\n",
        "#     vocabs[int(key)] = value[:-1]"
      ]
    },
    {
      "cell_type": "markdown",
      "metadata": {
        "id": "5VqCWRSiDBsh"
      },
      "source": [
        "take all the line labels"
      ]
    },
    {
      "cell_type": "code",
      "execution_count": 4,
      "metadata": {
        "id": "CeN1okAfDCzB"
      },
      "outputs": [],
      "source": [
        "train_label = np.loadtxt('train-label.dat', unpack = True)\n",
        "y_train = pd.DataFrame(train_label.transpose(1, 0), columns=list(labels.values()))\n",
        "\n",
        "test_label = np.loadtxt('test-label.dat', unpack = True)\n",
        "y_test = pd.DataFrame(test_label.transpose(1, 0), columns=list(labels.values()))"
      ]
    },
    {
      "cell_type": "markdown",
      "metadata": {
        "id": "O0rw7zMbDEKK"
      },
      "source": [
        "get all the words from each sentence in a line"
      ]
    },
    {
      "cell_type": "code",
      "execution_count": 5,
      "metadata": {
        "id": "476ITRT4DFJy"
      },
      "outputs": [],
      "source": [
        "tr_lines = []\n",
        "with open(\"train-data.dat\", 'r') as file:\n",
        " for line in file:\n",
        " \n",
        "    l = \"\".join(re.split(\"\\<|\\>\", line)[::2])\n",
        "  \n",
        "    tr_lines.append(re.sub(\"\\s\\s+\" , \" \", l.rstrip()[2:]))\n",
        "\n",
        "te_lines = []\n",
        "with open(\"test-data.dat\", 'r') as file:\n",
        " for line in file:\n",
        " \n",
        "    l = \"\".join(re.split(\"\\<|\\>\", line)[::2])\n",
        "    te_lines.append(re.sub(\"\\s\\s+\" , \" \", l.rstrip()[2:]))"
      ]
    },
    {
      "cell_type": "code",
      "execution_count": 6,
      "metadata": {
        "id": "KGWl8BsvDF-6"
      },
      "outputs": [],
      "source": [
        "vectorizer = CountVectorizer()\n",
        "X = vectorizer.fit(tr_lines+te_lines)\n",
        "\n",
        "X_train = vectorizer.transform(tr_lines)\n",
        "X_test = vectorizer.transform(te_lines)"
      ]
    },
    {
      "cell_type": "code",
      "source": [
        "X_train = preprocessing.normalize(X_train)\n",
        "X_test = preprocessing.normalize(X_test)"
      ],
      "metadata": {
        "id": "F2mKJUckMGco"
      },
      "execution_count": 7,
      "outputs": []
    },
    {
      "cell_type": "markdown",
      "metadata": {
        "id": "rwD56v2BDI-i"
      },
      "source": [
        "Binary relevance"
      ]
    },
    {
      "cell_type": "code",
      "execution_count": 10,
      "metadata": {
        "id": "LquCa707DJ3y"
      },
      "outputs": [],
      "source": [
        "model = MultiOutputRegressor(LinearRegression())\n",
        "model.fit(X_train, y_train)\n",
        "y_pred = model.predict(X_test)"
      ]
    },
    {
      "cell_type": "code",
      "execution_count": 11,
      "metadata": {
        "colab": {
          "base_uri": "https://localhost:8080/"
        },
        "id": "5PJe-RzIDLVJ",
        "outputId": "874f7233-d15d-41f0-c666-98422141c128"
      },
      "outputs": [
        {
          "output_type": "stream",
          "name": "stdout",
          "text": [
            "              precision    recall  f1-score   support\n",
            "\n",
            "           0       0.31      0.10      0.15      1203\n",
            "           1       0.09      0.07      0.07       197\n",
            "           2       0.27      0.10      0.15      1029\n",
            "           3       0.05      0.07      0.06        70\n",
            "           4       0.11      0.09      0.10       316\n",
            "           5       0.04      0.06      0.05       104\n",
            "           6       0.09      0.10      0.09       302\n",
            "           7       0.02      0.07      0.03       123\n",
            "           8       0.07      0.12      0.09       182\n",
            "           9       0.01      0.04      0.02        53\n",
            "          10       0.04      0.19      0.06        73\n",
            "          11       0.00      0.00      0.00        32\n",
            "          12       0.03      0.05      0.04        58\n",
            "          13       0.00      0.00      0.00         8\n",
            "          14       0.06      0.06      0.06       100\n",
            "          15       0.02      0.06      0.03        33\n",
            "          16       0.00      0.00      0.00        20\n",
            "          17       0.00      0.00      0.00        37\n",
            "          18       0.01      0.07      0.01        41\n",
            "          19       0.00      0.00      0.00         2\n",
            "\n",
            "    accuracy                           0.09      3983\n",
            "   macro avg       0.06      0.06      0.05      3983\n",
            "weighted avg       0.19      0.09      0.11      3983\n",
            "\n"
          ]
        }
      ],
      "source": [
        "print(classification_report(np.argmax(y_test.to_numpy(), axis=1),np.argmax(y_pred, axis=1),zero_division='warn'))\n"
      ]
    },
    {
      "cell_type": "code",
      "execution_count": 8,
      "metadata": {
        "id": "7qSBY6TkDMFi"
      },
      "outputs": [],
      "source": [
        "model = MultiOutputRegressor(LogisticRegression(random_state=12))\n",
        "model.fit(X_train, y_train)\n",
        "y_pred = model.predict(X_test)"
      ]
    },
    {
      "cell_type": "code",
      "execution_count": 9,
      "metadata": {
        "colab": {
          "base_uri": "https://localhost:8080/"
        },
        "id": "H3fI8N6-DNGy",
        "outputId": "c36c3f84-0705-49ba-f46c-cbc2215ec766"
      },
      "outputs": [
        {
          "output_type": "stream",
          "name": "stdout",
          "text": [
            "              precision    recall  f1-score   support\n",
            "\n",
            "           0       0.42      0.76      0.54      1203\n",
            "           1       0.83      0.15      0.25       197\n",
            "           2       0.49      0.34      0.40      1029\n",
            "           3       0.33      0.04      0.08        70\n",
            "           4       0.28      0.21      0.24       316\n",
            "           5       0.28      0.07      0.11       104\n",
            "           6       0.31      0.15      0.20       302\n",
            "           7       0.18      0.22      0.19       123\n",
            "           8       0.35      0.33      0.34       182\n",
            "           9       0.18      0.08      0.11        53\n",
            "          10       0.21      0.21      0.21        73\n",
            "          11       0.12      0.12      0.12        32\n",
            "          12       0.23      0.12      0.16        58\n",
            "          13       0.00      0.00      0.00         8\n",
            "          14       0.42      0.28      0.34       100\n",
            "          15       0.20      0.12      0.15        33\n",
            "          16       0.05      0.05      0.05        20\n",
            "          17       0.19      0.16      0.17        37\n",
            "          18       0.45      0.12      0.19        41\n",
            "          19       0.00      0.00      0.00         2\n",
            "\n",
            "    accuracy                           0.40      3983\n",
            "   macro avg       0.28      0.18      0.19      3983\n",
            "weighted avg       0.40      0.40      0.36      3983\n",
            "\n"
          ]
        }
      ],
      "source": [
        "print(classification_report(np.argmax(y_test.to_numpy(), axis=1),np.argmax(y_pred, axis=1),zero_division='warn'))"
      ]
    },
    {
      "cell_type": "code",
      "execution_count": 12,
      "metadata": {
        "id": "UcbPDQ-KDOma"
      },
      "outputs": [],
      "source": [
        "model = MultiOutputRegressor(SVC(kernel='linear'))\n",
        "model.fit(X_train, y_train)\n",
        "y_pred = model.predict(X_test)"
      ]
    },
    {
      "cell_type": "code",
      "execution_count": 13,
      "metadata": {
        "colab": {
          "base_uri": "https://localhost:8080/"
        },
        "id": "iobHdd2lDPZp",
        "outputId": "8617b77b-8381-4b59-b585-912d32747693"
      },
      "outputs": [
        {
          "output_type": "stream",
          "name": "stdout",
          "text": [
            "              precision    recall  f1-score   support\n",
            "\n",
            "           0       0.46      0.76      0.57      1203\n",
            "           1       0.83      0.25      0.39       197\n",
            "           2       0.50      0.36      0.42      1029\n",
            "           3       0.28      0.07      0.11        70\n",
            "           4       0.24      0.20      0.22       316\n",
            "           5       0.29      0.06      0.10       104\n",
            "           6       0.37      0.15      0.22       302\n",
            "           7       0.18      0.20      0.19       123\n",
            "           8       0.33      0.36      0.34       182\n",
            "           9       0.20      0.15      0.17        53\n",
            "          10       0.21      0.25      0.23        73\n",
            "          11       0.11      0.16      0.13        32\n",
            "          12       0.22      0.16      0.18        58\n",
            "          13       0.00      0.00      0.00         8\n",
            "          14       0.39      0.36      0.37       100\n",
            "          15       0.18      0.15      0.16        33\n",
            "          16       0.09      0.10      0.10        20\n",
            "          17       0.21      0.27      0.24        37\n",
            "          18       0.39      0.29      0.33        41\n",
            "          19       0.00      0.00      0.00         2\n",
            "\n",
            "    accuracy                           0.41      3983\n",
            "   macro avg       0.27      0.21      0.22      3983\n",
            "weighted avg       0.42      0.41      0.39      3983\n",
            "\n"
          ]
        }
      ],
      "source": [
        "print(classification_report(np.argmax(y_test.to_numpy(), axis=1),np.argmax(y_pred, axis=1),zero_division='warn'))"
      ]
    },
    {
      "cell_type": "markdown",
      "metadata": {
        "id": "FMag0yqrDRWq"
      },
      "source": [
        "Classifier Chain"
      ]
    },
    {
      "cell_type": "code",
      "execution_count": 19,
      "metadata": {
        "id": "1bsGIZEYE_Tx"
      },
      "outputs": [],
      "source": [
        "model =  ClassifierChain(LogisticRegression(random_state=12, max_iter=150))\n",
        "model.fit(X_train, y_train)\n",
        "y_pred = model.predict(X_test)"
      ]
    },
    {
      "cell_type": "code",
      "execution_count": 16,
      "metadata": {
        "id": "AeP32mT8FAHh",
        "colab": {
          "base_uri": "https://localhost:8080/"
        },
        "outputId": "fbac468c-dc08-43d6-e549-bf2866998e13"
      },
      "outputs": [
        {
          "output_type": "stream",
          "name": "stdout",
          "text": [
            "              precision    recall  f1-score   support\n",
            "\n",
            "           0       0.39      0.81      0.53      1203\n",
            "           1       0.83      0.15      0.26       197\n",
            "           2       0.50      0.31      0.38      1029\n",
            "           3       0.60      0.04      0.08        70\n",
            "           4       0.31      0.17      0.22       316\n",
            "           5       0.33      0.01      0.02       104\n",
            "           6       0.31      0.17      0.22       302\n",
            "           7       0.17      0.09      0.12       123\n",
            "           8       0.33      0.31      0.32       182\n",
            "           9       0.22      0.08      0.11        53\n",
            "          10       0.20      0.16      0.18        73\n",
            "          11       0.14      0.09      0.11        32\n",
            "          12       0.32      0.12      0.17        58\n",
            "          13       0.00      0.00      0.00         8\n",
            "          14       0.41      0.29      0.34       100\n",
            "          15       0.27      0.09      0.14        33\n",
            "          16       0.09      0.05      0.06        20\n",
            "          17       0.21      0.16      0.18        37\n",
            "          18       0.37      0.17      0.23        41\n",
            "          19       0.00      0.00      0.00         2\n",
            "\n",
            "    accuracy                           0.39      3983\n",
            "   macro avg       0.30      0.16      0.18      3983\n",
            "weighted avg       0.41      0.39      0.35      3983\n",
            "\n"
          ]
        },
        {
          "output_type": "stream",
          "name": "stderr",
          "text": [
            "/usr/local/lib/python3.7/dist-packages/sklearn/metrics/_classification.py:1318: UndefinedMetricWarning: Precision and F-score are ill-defined and being set to 0.0 in labels with no predicted samples. Use `zero_division` parameter to control this behavior.\n",
            "  _warn_prf(average, modifier, msg_start, len(result))\n",
            "/usr/local/lib/python3.7/dist-packages/sklearn/metrics/_classification.py:1318: UndefinedMetricWarning: Precision and F-score are ill-defined and being set to 0.0 in labels with no predicted samples. Use `zero_division` parameter to control this behavior.\n",
            "  _warn_prf(average, modifier, msg_start, len(result))\n",
            "/usr/local/lib/python3.7/dist-packages/sklearn/metrics/_classification.py:1318: UndefinedMetricWarning: Precision and F-score are ill-defined and being set to 0.0 in labels with no predicted samples. Use `zero_division` parameter to control this behavior.\n",
            "  _warn_prf(average, modifier, msg_start, len(result))\n"
          ]
        }
      ],
      "source": [
        "print(classification_report(np.argmax(y_test.to_numpy(), axis=1),np.argmax(y_pred, axis=1),zero_division='warn'))"
      ]
    },
    {
      "cell_type": "code",
      "execution_count": 17,
      "metadata": {
        "id": "LrEsutnRFA6p"
      },
      "outputs": [],
      "source": [
        "model = MultiOutputRegressor(SVC(kernel='linear'))\n",
        "model.fit(X_train, y_train)\n",
        "y_pred = model.predict(X_test)"
      ]
    },
    {
      "cell_type": "code",
      "execution_count": 18,
      "metadata": {
        "id": "ahIRw2XOFB-B",
        "colab": {
          "base_uri": "https://localhost:8080/"
        },
        "outputId": "67d204b4-442b-4dc8-a79a-1174fa13f065"
      },
      "outputs": [
        {
          "output_type": "stream",
          "name": "stdout",
          "text": [
            "              precision    recall  f1-score   support\n",
            "\n",
            "           0       0.46      0.76      0.57      1203\n",
            "           1       0.83      0.25      0.39       197\n",
            "           2       0.50      0.36      0.42      1029\n",
            "           3       0.28      0.07      0.11        70\n",
            "           4       0.24      0.20      0.22       316\n",
            "           5       0.29      0.06      0.10       104\n",
            "           6       0.37      0.15      0.22       302\n",
            "           7       0.18      0.20      0.19       123\n",
            "           8       0.33      0.36      0.34       182\n",
            "           9       0.20      0.15      0.17        53\n",
            "          10       0.21      0.25      0.23        73\n",
            "          11       0.11      0.16      0.13        32\n",
            "          12       0.22      0.16      0.18        58\n",
            "          13       0.00      0.00      0.00         8\n",
            "          14       0.39      0.36      0.37       100\n",
            "          15       0.18      0.15      0.16        33\n",
            "          16       0.09      0.10      0.10        20\n",
            "          17       0.21      0.27      0.24        37\n",
            "          18       0.39      0.29      0.33        41\n",
            "          19       0.00      0.00      0.00         2\n",
            "\n",
            "    accuracy                           0.41      3983\n",
            "   macro avg       0.27      0.21      0.22      3983\n",
            "weighted avg       0.42      0.41      0.39      3983\n",
            "\n"
          ]
        }
      ],
      "source": [
        "print(classification_report(np.argmax(y_test.to_numpy(), axis=1),np.argmax(y_pred, axis=1),zero_division='warn'))"
      ]
    },
    {
      "cell_type": "markdown",
      "source": [
        "Apart from the linear regression which was only used in binary relevance (precision in class 1 was 0.09 and all the others has 0.83), the results are about the same with some classes having a little better results than others in each case and some worse. Both methods could not find classes with few examples which could be fixed with imbalance methods which are out of the scope of this project."
      ],
      "metadata": {
        "id": "vo6LmPDSkSJl"
      }
    },
    {
      "cell_type": "markdown",
      "source": [
        "It is difficult to describe which one is better just from this.\n",
        "One thing we can say is that because we already have a lot of columns in this dataset it would be better to pick a method that does not add more, also if the classifier  chain method yields wrong results in the first classes, it might have a higher chance to predict the rest of the classes wrong, so for example the class 18 has a better accuracy in the binary relevance method.\n",
        "For these reasons we think that its better to pick the binary relevance method for this dataset and the little preprossesing that has been done."
      ],
      "metadata": {
        "id": "6zqnezHSnJMD"
      }
    },
    {
      "cell_type": "markdown",
      "source": [
        "!!! Could not use the mill library to chech how to use the files"
      ],
      "metadata": {
        "id": "g4u0KuivzeIY"
      }
    },
    {
      "cell_type": "code",
      "source": [
        "!pip install mil -U"
      ],
      "metadata": {
        "colab": {
          "base_uri": "https://localhost:8080/"
        },
        "id": "yYsP0cAXpoie",
        "outputId": "a9d6b7a8-8dbb-4fb6-b19e-a42d9f797538"
      },
      "execution_count": 57,
      "outputs": [
        {
          "output_type": "stream",
          "name": "stdout",
          "text": [
            "Requirement already satisfied: mil in /usr/local/lib/python3.7/dist-packages (1.0.5)\n"
          ]
        }
      ]
    },
    {
      "cell_type": "code",
      "source": [
        "# # importing all the datasets modules\n",
        "# from mil.data.datasets import musk1, musk2, protein, elephant, corel_dogs, \\\n",
        "#                               ucsb_breast_cancer, web_recommendation_1, birds_brown_creeper, \\\n",
        "#                               mnist_bags\n",
        "# from mil.bag_representation import MILESMapping, DiscriminativeMapping, ArithmeticMeanBagRepresentation, \\\n",
        "#                                    MedianBagRepresentation, GeometricMeanBagRepresentation, MinBagRepresentation, \\\n",
        "#                                    MaxBagRepresentation, MeanMinMaxBagRepresentation"
      ],
      "metadata": {
        "id": "nWHA-Sm9qdaa"
      },
      "execution_count": 58,
      "outputs": []
    },
    {
      "cell_type": "code",
      "source": [
        "# (bags_train, y_train), (bags_test, y_test) = ucsb_breast_cancer.load()"
      ],
      "metadata": {
        "colab": {
          "base_uri": "https://localhost:8080/",
          "height": 311
        },
        "id": "VOi45acXvDiK",
        "outputId": "9da2e2f3-6354-4037-aa07-8fa60659483b"
      },
      "execution_count": 59,
      "outputs": [
        {
          "output_type": "error",
          "ename": "FileNotFoundError",
          "evalue": "ignored",
          "traceback": [
            "\u001b[0;31m---------------------------------------------------------------------------\u001b[0m",
            "\u001b[0;31mFileNotFoundError\u001b[0m                         Traceback (most recent call last)",
            "\u001b[0;32m<ipython-input-59-985a3381854b>\u001b[0m in \u001b[0;36m<module>\u001b[0;34m()\u001b[0m\n\u001b[0;32m----> 1\u001b[0;31m \u001b[0;34m(\u001b[0m\u001b[0mbags_train\u001b[0m\u001b[0;34m,\u001b[0m \u001b[0my_train\u001b[0m\u001b[0;34m)\u001b[0m\u001b[0;34m,\u001b[0m \u001b[0;34m(\u001b[0m\u001b[0mbags_test\u001b[0m\u001b[0;34m,\u001b[0m \u001b[0my_test\u001b[0m\u001b[0;34m)\u001b[0m \u001b[0;34m=\u001b[0m \u001b[0mucsb_breast_cancer\u001b[0m\u001b[0;34m.\u001b[0m\u001b[0mload\u001b[0m\u001b[0;34m(\u001b[0m\u001b[0;34m)\u001b[0m\u001b[0;34m\u001b[0m\u001b[0;34m\u001b[0m\u001b[0m\n\u001b[0m",
            "\u001b[0;32m/usr/local/lib/python3.7/dist-packages/mil/data/datasets/ucsb_breast_cancer.py\u001b[0m in \u001b[0;36mload\u001b[0;34m()\u001b[0m\n\u001b[1;32m      5\u001b[0m \u001b[0mcurrent_file\u001b[0m \u001b[0;34m=\u001b[0m \u001b[0mos\u001b[0m\u001b[0;34m.\u001b[0m\u001b[0mpath\u001b[0m\u001b[0;34m.\u001b[0m\u001b[0mabspath\u001b[0m\u001b[0;34m(\u001b[0m\u001b[0mos\u001b[0m\u001b[0;34m.\u001b[0m\u001b[0mpath\u001b[0m\u001b[0;34m.\u001b[0m\u001b[0mdirname\u001b[0m\u001b[0;34m(\u001b[0m\u001b[0m__file__\u001b[0m\u001b[0;34m)\u001b[0m\u001b[0;34m)\u001b[0m\u001b[0;34m\u001b[0m\u001b[0;34m\u001b[0m\u001b[0m\n\u001b[1;32m      6\u001b[0m \u001b[0;32mdef\u001b[0m \u001b[0mload\u001b[0m\u001b[0;34m(\u001b[0m\u001b[0;34m)\u001b[0m\u001b[0;34m:\u001b[0m\u001b[0;34m\u001b[0m\u001b[0;34m\u001b[0m\u001b[0m\n\u001b[0;32m----> 7\u001b[0;31m     \u001b[0;32mreturn\u001b[0m \u001b[0mload_data\u001b[0m\u001b[0;34m(\u001b[0m\u001b[0mcurrent_file\u001b[0m \u001b[0;34m+\u001b[0m \u001b[0;34m'./csv/ucsb_breast_cancer.csv'\u001b[0m\u001b[0;34m)\u001b[0m\u001b[0;34m\u001b[0m\u001b[0;34m\u001b[0m\u001b[0m\n\u001b[0m",
            "\u001b[0;32m/usr/local/lib/python3.7/dist-packages/mil/data/datasets/loader.py\u001b[0m in \u001b[0;36mload_data\u001b[0;34m(filepath)\u001b[0m\n\u001b[1;32m      8\u001b[0m \u001b[0;34m\u001b[0m\u001b[0m\n\u001b[1;32m      9\u001b[0m \u001b[0;32mdef\u001b[0m \u001b[0mload_data\u001b[0m\u001b[0;34m(\u001b[0m\u001b[0mfilepath\u001b[0m\u001b[0;34m)\u001b[0m\u001b[0;34m:\u001b[0m\u001b[0;34m\u001b[0m\u001b[0;34m\u001b[0m\u001b[0m\n\u001b[0;32m---> 10\u001b[0;31m     \u001b[0mdf\u001b[0m \u001b[0;34m=\u001b[0m \u001b[0mpd\u001b[0m\u001b[0;34m.\u001b[0m\u001b[0mread_csv\u001b[0m\u001b[0;34m(\u001b[0m\u001b[0mfilepath\u001b[0m\u001b[0;34m,\u001b[0m \u001b[0mheader\u001b[0m\u001b[0;34m=\u001b[0m\u001b[0;32mNone\u001b[0m\u001b[0;34m)\u001b[0m\u001b[0;34m\u001b[0m\u001b[0;34m\u001b[0m\u001b[0m\n\u001b[0m\u001b[1;32m     11\u001b[0m \u001b[0;34m\u001b[0m\u001b[0m\n\u001b[1;32m     12\u001b[0m     \u001b[0mbags_id\u001b[0m \u001b[0;34m=\u001b[0m \u001b[0mdf\u001b[0m\u001b[0;34m[\u001b[0m\u001b[0;36m1\u001b[0m\u001b[0;34m]\u001b[0m\u001b[0;34m.\u001b[0m\u001b[0munique\u001b[0m\u001b[0;34m(\u001b[0m\u001b[0;34m)\u001b[0m\u001b[0;34m\u001b[0m\u001b[0;34m\u001b[0m\u001b[0m\n",
            "\u001b[0;32m/usr/local/lib/python3.7/dist-packages/pandas/util/_decorators.py\u001b[0m in \u001b[0;36mwrapper\u001b[0;34m(*args, **kwargs)\u001b[0m\n\u001b[1;32m    309\u001b[0m                     \u001b[0mstacklevel\u001b[0m\u001b[0;34m=\u001b[0m\u001b[0mstacklevel\u001b[0m\u001b[0;34m,\u001b[0m\u001b[0;34m\u001b[0m\u001b[0;34m\u001b[0m\u001b[0m\n\u001b[1;32m    310\u001b[0m                 )\n\u001b[0;32m--> 311\u001b[0;31m             \u001b[0;32mreturn\u001b[0m \u001b[0mfunc\u001b[0m\u001b[0;34m(\u001b[0m\u001b[0;34m*\u001b[0m\u001b[0margs\u001b[0m\u001b[0;34m,\u001b[0m \u001b[0;34m**\u001b[0m\u001b[0mkwargs\u001b[0m\u001b[0;34m)\u001b[0m\u001b[0;34m\u001b[0m\u001b[0;34m\u001b[0m\u001b[0m\n\u001b[0m\u001b[1;32m    312\u001b[0m \u001b[0;34m\u001b[0m\u001b[0m\n\u001b[1;32m    313\u001b[0m         \u001b[0;32mreturn\u001b[0m \u001b[0mwrapper\u001b[0m\u001b[0;34m\u001b[0m\u001b[0;34m\u001b[0m\u001b[0m\n",
            "\u001b[0;32m/usr/local/lib/python3.7/dist-packages/pandas/io/parsers/readers.py\u001b[0m in \u001b[0;36mread_csv\u001b[0;34m(filepath_or_buffer, sep, delimiter, header, names, index_col, usecols, squeeze, prefix, mangle_dupe_cols, dtype, engine, converters, true_values, false_values, skipinitialspace, skiprows, skipfooter, nrows, na_values, keep_default_na, na_filter, verbose, skip_blank_lines, parse_dates, infer_datetime_format, keep_date_col, date_parser, dayfirst, cache_dates, iterator, chunksize, compression, thousands, decimal, lineterminator, quotechar, quoting, doublequote, escapechar, comment, encoding, encoding_errors, dialect, error_bad_lines, warn_bad_lines, on_bad_lines, delim_whitespace, low_memory, memory_map, float_precision, storage_options)\u001b[0m\n\u001b[1;32m    584\u001b[0m     \u001b[0mkwds\u001b[0m\u001b[0;34m.\u001b[0m\u001b[0mupdate\u001b[0m\u001b[0;34m(\u001b[0m\u001b[0mkwds_defaults\u001b[0m\u001b[0;34m)\u001b[0m\u001b[0;34m\u001b[0m\u001b[0;34m\u001b[0m\u001b[0m\n\u001b[1;32m    585\u001b[0m \u001b[0;34m\u001b[0m\u001b[0m\n\u001b[0;32m--> 586\u001b[0;31m     \u001b[0;32mreturn\u001b[0m \u001b[0m_read\u001b[0m\u001b[0;34m(\u001b[0m\u001b[0mfilepath_or_buffer\u001b[0m\u001b[0;34m,\u001b[0m \u001b[0mkwds\u001b[0m\u001b[0;34m)\u001b[0m\u001b[0;34m\u001b[0m\u001b[0;34m\u001b[0m\u001b[0m\n\u001b[0m\u001b[1;32m    587\u001b[0m \u001b[0;34m\u001b[0m\u001b[0m\n\u001b[1;32m    588\u001b[0m \u001b[0;34m\u001b[0m\u001b[0m\n",
            "\u001b[0;32m/usr/local/lib/python3.7/dist-packages/pandas/io/parsers/readers.py\u001b[0m in \u001b[0;36m_read\u001b[0;34m(filepath_or_buffer, kwds)\u001b[0m\n\u001b[1;32m    480\u001b[0m \u001b[0;34m\u001b[0m\u001b[0m\n\u001b[1;32m    481\u001b[0m     \u001b[0;31m# Create the parser.\u001b[0m\u001b[0;34m\u001b[0m\u001b[0;34m\u001b[0m\u001b[0;34m\u001b[0m\u001b[0m\n\u001b[0;32m--> 482\u001b[0;31m     \u001b[0mparser\u001b[0m \u001b[0;34m=\u001b[0m \u001b[0mTextFileReader\u001b[0m\u001b[0;34m(\u001b[0m\u001b[0mfilepath_or_buffer\u001b[0m\u001b[0;34m,\u001b[0m \u001b[0;34m**\u001b[0m\u001b[0mkwds\u001b[0m\u001b[0;34m)\u001b[0m\u001b[0;34m\u001b[0m\u001b[0;34m\u001b[0m\u001b[0m\n\u001b[0m\u001b[1;32m    483\u001b[0m \u001b[0;34m\u001b[0m\u001b[0m\n\u001b[1;32m    484\u001b[0m     \u001b[0;32mif\u001b[0m \u001b[0mchunksize\u001b[0m \u001b[0;32mor\u001b[0m \u001b[0miterator\u001b[0m\u001b[0;34m:\u001b[0m\u001b[0;34m\u001b[0m\u001b[0;34m\u001b[0m\u001b[0m\n",
            "\u001b[0;32m/usr/local/lib/python3.7/dist-packages/pandas/io/parsers/readers.py\u001b[0m in \u001b[0;36m__init__\u001b[0;34m(self, f, engine, **kwds)\u001b[0m\n\u001b[1;32m    809\u001b[0m             \u001b[0mself\u001b[0m\u001b[0;34m.\u001b[0m\u001b[0moptions\u001b[0m\u001b[0;34m[\u001b[0m\u001b[0;34m\"has_index_names\"\u001b[0m\u001b[0;34m]\u001b[0m \u001b[0;34m=\u001b[0m \u001b[0mkwds\u001b[0m\u001b[0;34m[\u001b[0m\u001b[0;34m\"has_index_names\"\u001b[0m\u001b[0;34m]\u001b[0m\u001b[0;34m\u001b[0m\u001b[0;34m\u001b[0m\u001b[0m\n\u001b[1;32m    810\u001b[0m \u001b[0;34m\u001b[0m\u001b[0m\n\u001b[0;32m--> 811\u001b[0;31m         \u001b[0mself\u001b[0m\u001b[0;34m.\u001b[0m\u001b[0m_engine\u001b[0m \u001b[0;34m=\u001b[0m \u001b[0mself\u001b[0m\u001b[0;34m.\u001b[0m\u001b[0m_make_engine\u001b[0m\u001b[0;34m(\u001b[0m\u001b[0mself\u001b[0m\u001b[0;34m.\u001b[0m\u001b[0mengine\u001b[0m\u001b[0;34m)\u001b[0m\u001b[0;34m\u001b[0m\u001b[0;34m\u001b[0m\u001b[0m\n\u001b[0m\u001b[1;32m    812\u001b[0m \u001b[0;34m\u001b[0m\u001b[0m\n\u001b[1;32m    813\u001b[0m     \u001b[0;32mdef\u001b[0m \u001b[0mclose\u001b[0m\u001b[0;34m(\u001b[0m\u001b[0mself\u001b[0m\u001b[0;34m)\u001b[0m\u001b[0;34m:\u001b[0m\u001b[0;34m\u001b[0m\u001b[0;34m\u001b[0m\u001b[0m\n",
            "\u001b[0;32m/usr/local/lib/python3.7/dist-packages/pandas/io/parsers/readers.py\u001b[0m in \u001b[0;36m_make_engine\u001b[0;34m(self, engine)\u001b[0m\n\u001b[1;32m   1038\u001b[0m             )\n\u001b[1;32m   1039\u001b[0m         \u001b[0;31m# error: Too many arguments for \"ParserBase\"\u001b[0m\u001b[0;34m\u001b[0m\u001b[0;34m\u001b[0m\u001b[0;34m\u001b[0m\u001b[0m\n\u001b[0;32m-> 1040\u001b[0;31m         \u001b[0;32mreturn\u001b[0m \u001b[0mmapping\u001b[0m\u001b[0;34m[\u001b[0m\u001b[0mengine\u001b[0m\u001b[0;34m]\u001b[0m\u001b[0;34m(\u001b[0m\u001b[0mself\u001b[0m\u001b[0;34m.\u001b[0m\u001b[0mf\u001b[0m\u001b[0;34m,\u001b[0m \u001b[0;34m**\u001b[0m\u001b[0mself\u001b[0m\u001b[0;34m.\u001b[0m\u001b[0moptions\u001b[0m\u001b[0;34m)\u001b[0m  \u001b[0;31m# type: ignore[call-arg]\u001b[0m\u001b[0;34m\u001b[0m\u001b[0;34m\u001b[0m\u001b[0m\n\u001b[0m\u001b[1;32m   1041\u001b[0m \u001b[0;34m\u001b[0m\u001b[0m\n\u001b[1;32m   1042\u001b[0m     \u001b[0;32mdef\u001b[0m \u001b[0m_failover_to_python\u001b[0m\u001b[0;34m(\u001b[0m\u001b[0mself\u001b[0m\u001b[0;34m)\u001b[0m\u001b[0;34m:\u001b[0m\u001b[0;34m\u001b[0m\u001b[0;34m\u001b[0m\u001b[0m\n",
            "\u001b[0;32m/usr/local/lib/python3.7/dist-packages/pandas/io/parsers/c_parser_wrapper.py\u001b[0m in \u001b[0;36m__init__\u001b[0;34m(self, src, **kwds)\u001b[0m\n\u001b[1;32m     49\u001b[0m \u001b[0;34m\u001b[0m\u001b[0m\n\u001b[1;32m     50\u001b[0m         \u001b[0;31m# open handles\u001b[0m\u001b[0;34m\u001b[0m\u001b[0;34m\u001b[0m\u001b[0;34m\u001b[0m\u001b[0m\n\u001b[0;32m---> 51\u001b[0;31m         \u001b[0mself\u001b[0m\u001b[0;34m.\u001b[0m\u001b[0m_open_handles\u001b[0m\u001b[0;34m(\u001b[0m\u001b[0msrc\u001b[0m\u001b[0;34m,\u001b[0m \u001b[0mkwds\u001b[0m\u001b[0;34m)\u001b[0m\u001b[0;34m\u001b[0m\u001b[0;34m\u001b[0m\u001b[0m\n\u001b[0m\u001b[1;32m     52\u001b[0m         \u001b[0;32massert\u001b[0m \u001b[0mself\u001b[0m\u001b[0;34m.\u001b[0m\u001b[0mhandles\u001b[0m \u001b[0;32mis\u001b[0m \u001b[0;32mnot\u001b[0m \u001b[0;32mNone\u001b[0m\u001b[0;34m\u001b[0m\u001b[0;34m\u001b[0m\u001b[0m\n\u001b[1;32m     53\u001b[0m \u001b[0;34m\u001b[0m\u001b[0m\n",
            "\u001b[0;32m/usr/local/lib/python3.7/dist-packages/pandas/io/parsers/base_parser.py\u001b[0m in \u001b[0;36m_open_handles\u001b[0;34m(self, src, kwds)\u001b[0m\n\u001b[1;32m    227\u001b[0m             \u001b[0mmemory_map\u001b[0m\u001b[0;34m=\u001b[0m\u001b[0mkwds\u001b[0m\u001b[0;34m.\u001b[0m\u001b[0mget\u001b[0m\u001b[0;34m(\u001b[0m\u001b[0;34m\"memory_map\"\u001b[0m\u001b[0;34m,\u001b[0m \u001b[0;32mFalse\u001b[0m\u001b[0;34m)\u001b[0m\u001b[0;34m,\u001b[0m\u001b[0;34m\u001b[0m\u001b[0;34m\u001b[0m\u001b[0m\n\u001b[1;32m    228\u001b[0m             \u001b[0mstorage_options\u001b[0m\u001b[0;34m=\u001b[0m\u001b[0mkwds\u001b[0m\u001b[0;34m.\u001b[0m\u001b[0mget\u001b[0m\u001b[0;34m(\u001b[0m\u001b[0;34m\"storage_options\"\u001b[0m\u001b[0;34m,\u001b[0m \u001b[0;32mNone\u001b[0m\u001b[0;34m)\u001b[0m\u001b[0;34m,\u001b[0m\u001b[0;34m\u001b[0m\u001b[0;34m\u001b[0m\u001b[0m\n\u001b[0;32m--> 229\u001b[0;31m             \u001b[0merrors\u001b[0m\u001b[0;34m=\u001b[0m\u001b[0mkwds\u001b[0m\u001b[0;34m.\u001b[0m\u001b[0mget\u001b[0m\u001b[0;34m(\u001b[0m\u001b[0;34m\"encoding_errors\"\u001b[0m\u001b[0;34m,\u001b[0m \u001b[0;34m\"strict\"\u001b[0m\u001b[0;34m)\u001b[0m\u001b[0;34m,\u001b[0m\u001b[0;34m\u001b[0m\u001b[0;34m\u001b[0m\u001b[0m\n\u001b[0m\u001b[1;32m    230\u001b[0m         )\n\u001b[1;32m    231\u001b[0m \u001b[0;34m\u001b[0m\u001b[0m\n",
            "\u001b[0;32m/usr/local/lib/python3.7/dist-packages/pandas/io/common.py\u001b[0m in \u001b[0;36mget_handle\u001b[0;34m(path_or_buf, mode, encoding, compression, memory_map, is_text, errors, storage_options)\u001b[0m\n\u001b[1;32m    705\u001b[0m                 \u001b[0mencoding\u001b[0m\u001b[0;34m=\u001b[0m\u001b[0mioargs\u001b[0m\u001b[0;34m.\u001b[0m\u001b[0mencoding\u001b[0m\u001b[0;34m,\u001b[0m\u001b[0;34m\u001b[0m\u001b[0;34m\u001b[0m\u001b[0m\n\u001b[1;32m    706\u001b[0m                 \u001b[0merrors\u001b[0m\u001b[0;34m=\u001b[0m\u001b[0merrors\u001b[0m\u001b[0;34m,\u001b[0m\u001b[0;34m\u001b[0m\u001b[0;34m\u001b[0m\u001b[0m\n\u001b[0;32m--> 707\u001b[0;31m                 \u001b[0mnewline\u001b[0m\u001b[0;34m=\u001b[0m\u001b[0;34m\"\"\u001b[0m\u001b[0;34m,\u001b[0m\u001b[0;34m\u001b[0m\u001b[0;34m\u001b[0m\u001b[0m\n\u001b[0m\u001b[1;32m    708\u001b[0m             )\n\u001b[1;32m    709\u001b[0m         \u001b[0;32melse\u001b[0m\u001b[0;34m:\u001b[0m\u001b[0;34m\u001b[0m\u001b[0;34m\u001b[0m\u001b[0m\n",
            "\u001b[0;31mFileNotFoundError\u001b[0m: [Errno 2] No such file or directory: '/usr/local/lib/python3.7/dist-packages/mil/data/datasets./csv/ucsb_breast_cancer.csv'"
          ]
        }
      ]
    }
  ],
  "metadata": {
    "colab": {
      "name": "Untitled0.ipynb",
      "provenance": [],
      "collapsed_sections": []
    },
    "kernelspec": {
      "display_name": "Python 3",
      "name": "python3"
    },
    "language_info": {
      "name": "python"
    }
  },
  "nbformat": 4,
  "nbformat_minor": 0
}